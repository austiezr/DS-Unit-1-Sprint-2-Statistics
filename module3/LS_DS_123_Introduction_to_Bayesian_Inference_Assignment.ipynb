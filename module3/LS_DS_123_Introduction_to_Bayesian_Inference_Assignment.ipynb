{
  "nbformat": 4,
  "nbformat_minor": 0,
  "metadata": {
    "colab": {
      "name": "LS_DS_123_Introduction_to_Bayesian_Inference_Assignment.ipynb",
      "provenance": []
    },
    "kernelspec": {
      "name": "python3",
      "display_name": "Python 3"
    }
  },
  "cells": [
    {
      "cell_type": "markdown",
      "metadata": {
        "id": "H7OLbevlbd_Z",
        "colab_type": "text"
      },
      "source": [
        "# Lambda School Data Science Module 123\n",
        "\n",
        "## Introduction to Bayesian Inference\n",
        "\n",
        "\n"
      ]
    },
    {
      "cell_type": "markdown",
      "metadata": {
        "id": "P-DzzRk5bf0z",
        "colab_type": "text"
      },
      "source": [
        "## Assignment - Code it up!\n",
        "\n",
        "We used pure math to apply Bayes Theorem to drug tests. Now write Python code to reproduce the results! This is purposefully open ended - you'll have to think about how you should represent probabilities and events. You can and should look things up.\n",
        "\n",
        "Specific goals/targets:\n",
        "\n",
        "### 1) Write a function \n",
        "\n",
        "`def prob_drunk_given_positive(prob_drunk_prior, false_positive_rate):` \n",
        "\n",
        "You should only truly need these two values in order to apply Bayes Theorem. In this example, imagine that individuals are taking a breathalyzer test with an 8% false positive rate, a 100% true positive rate, and that our prior belief about drunk driving in the population is 1/1000. \n",
        " - What is the probability that a person is drunk after one positive breathalyzer test?\n",
        " - What is the probability that a person is drunk after two positive breathalyzer tests?\n",
        " - How many positive breathalyzer tests are needed in order to have a probability that's greater than 95% that a person is drunk beyond the legal limit?\n",
        "\n",
        "### 2) Explore `scipy.stats.bayes_mvs`  \n",
        "Read its documentation, and experiment with it on data you've tested in other ways earlier this week.\n",
        " - Create a visualization comparing the results of a Bayesian approach to a traditional/frequentist approach. (with a large sample size they should look close to identical, however, take this opportunity to practice visualizing condfidence intervals in general. The following are some potential ways that you could visualize confidence intervals on your graph:\n",
        "  - [Matplotlib Error Bars](https://matplotlib.org/3.1.1/api/_as_gen/matplotlib.pyplot.errorbar.html)\n",
        "  - [Seaborn barplot with error bars](https://seaborn.pydata.org/generated/seaborn.barplot.html)\n",
        "  - [Vertical ines to show bounds of confidence interval](https://www.simplypsychology.org/confidence-interval.jpg)\n",
        "  - [Confidence Intervals on Box Plots](https://matplotlib.org/3.1.1/api/_as_gen/matplotlib.axes.Axes.boxplot.html)\n",
        "\n",
        "### 3) In your own words, summarize the difference between Bayesian and Frequentist statistics\n",
        "\n",
        "If you're unsure where to start, check out [this blog post of Bayes theorem with Python](https://dataconomy.com/2015/02/introduction-to-bayes-theorem-with-python/).\n",
        "\n"
      ]
    },
    {
      "cell_type": "code",
      "metadata": {
        "id": "xpVhZyUnbf7o",
        "colab_type": "code",
        "outputId": "b109e510-f3ab-4e84-ec36-9d494937bdcc",
        "colab": {
          "base_uri": "https://localhost:8080/",
          "height": 119
        }
      },
      "source": [
        "# TODO - code!\n",
        "\n",
        "def prob_drunk_given_positive(prob_drunk_prior=.001,\n",
        "                              false_positive_rate=.08,\n",
        "                              desired_accuracy=.95,\n",
        "                              number_of_tests=1):\n",
        "\n",
        "# Calculating probability via Bayes theorem\n",
        "    numer = (1 - false_positive_rate) * prob_drunk_prior\n",
        "    denom = numer + (false_positive_rate * (1 - prob_drunk_prior))\n",
        "    probability = (numer / denom)\n",
        "    print(f'{round(probability*100, 2)}% probability.')\n",
        "\n",
        "# Iteration based off comparison to desired accuracy\n",
        "    while probability < desired_accuracy:\n",
        "        number_of_tests += 1\n",
        "        prob_drunk_given_positive(prob_drunk_prior=probability, \n",
        "                                  number_of_tests=number_of_tests)\n",
        "        break\n",
        "    if probability >= desired_accuracy:\n",
        "        print(f'{number_of_tests} tests necessary.')\n",
        "\n",
        "\n",
        "prob_drunk_given_positive()"
      ],
      "execution_count": 3,
      "outputs": [
        {
          "output_type": "stream",
          "text": [
            "1.14% probability.\n",
            "11.69% probability.\n",
            "60.36% probability.\n",
            "94.6% probability.\n",
            "99.51% probability.\n",
            "5 tests necessary.\n"
          ],
          "name": "stdout"
        }
      ]
    },
    {
      "cell_type": "code",
      "metadata": {
        "id": "LNY92qOtJthk",
        "colab_type": "code",
        "colab": {}
      },
      "source": [
        "def prob_drunk_given_positive_test(prob_drunk_prior=.001,\n",
        "                              false_positive_rate=.08,\n",
        "                              desired_accuracy=.95,\n",
        "                              number_of_tests=1):\n",
        "\n",
        "# Calculating probability via Bayes theorem\n",
        "    numer = (1 - false_positive_rate) * prob_drunk_prior\n",
        "    denom = numer + (false_positive_rate * (1 - prob_drunk_prior))\n",
        "    probability = (numer / denom)\n",
        "    print(f'{round(probability*100, 2)}% probability.')\n",
        "\n",
        "# Iteration based off comparison to desired accuracy\n",
        "    if probability < desired_accuracy:\n",
        "        number_of_tests += 1\n",
        "        prob_drunk_given_positive(prob_drunk_prior=probability, \n",
        "                                  number_of_tests=number_of_tests)\n",
        "    elif probability >= desired_accuracy:\n",
        "        print(f'{number_of_tests} tests necessary.')"
      ],
      "execution_count": 0,
      "outputs": []
    },
    {
      "cell_type": "code",
      "metadata": {
        "id": "I3znVl1yI8VK",
        "colab_type": "code",
        "colab": {
          "base_uri": "https://localhost:8080/",
          "height": 34
        },
        "outputId": "3b90b712-ae3b-44ac-f88d-500d9ab32513"
      },
      "source": [
        "import timeit\n",
        "import numpy as np\n",
        "\n",
        "t = timeit.Timer(setup='from __main__ import prob_drunk_given_positive_test', stmt='prob_drunk_given_positive_test')\n",
        "t2 = timeit.Timer(setup='from __main__ import prob_drunk_given_positive', stmt='prob_drunk_given_positive')\n",
        "print(np.mean(t.timeit(number=1000)) - np.mean(t2.timeit(number=1000)))"
      ],
      "execution_count": 12,
      "outputs": [
        {
          "output_type": "stream",
          "text": [
            "5.955999995421735e-06\n"
          ],
          "name": "stdout"
        }
      ]
    },
    {
      "cell_type": "markdown",
      "metadata": {
        "id": "ZBe6ryGhfu3i",
        "colab_type": "text"
      },
      "source": [
        "1.14% probability after first positive.\n",
        "\n",
        "11.69% probability after second positive.\n",
        "\n",
        "5 tests necessary for 95% probability."
      ]
    },
    {
      "cell_type": "code",
      "metadata": {
        "id": "Y4RzlP_pgcb2",
        "colab_type": "code",
        "outputId": "e75f2098-afe0-47e6-b091-51f511db5570",
        "colab": {
          "base_uri": "https://localhost:8080/",
          "height": 68
        }
      },
      "source": [
        "import scipy.stats as stats\n",
        "import pandas as pd\n",
        "import numpy as np\n",
        "\n",
        "df = pd.read_csv('https://archive.ics.uci.edu/ml/machine-learning-databases/forest-fires/forestfires.csv')\n",
        "\n",
        "bmean, bvar, bstd = stats.bayes_mvs(df['temp'])\n",
        "\n",
        "print(mean[0])\n",
        "print(var)\n",
        "print(std)"
      ],
      "execution_count": 0,
      "outputs": [
        {
          "output_type": "stream",
          "text": [
            "18.88916827852998\n",
            "Variance(statistic=33.848092105758305, minmax=(30.525188497228694, 37.469618781534194))\n",
            "Std_dev(statistic=5.815082284572773, minmax=(5.524960497345542, 6.121243238226544))\n"
          ],
          "name": "stdout"
        }
      ]
    },
    {
      "cell_type": "code",
      "metadata": {
        "id": "px6Sx84JiAHg",
        "colab_type": "code",
        "outputId": "1f3ebca3-ea32-4658-dd62-8c349eb59114",
        "colab": {
          "base_uri": "https://localhost:8080/",
          "height": 34
        }
      },
      "source": [
        "def confidence_interval(data, confidence=0.95):\n",
        "    data = np.array(data)\n",
        "    mean = np.mean(data)\n",
        "    n = len(data)\n",
        "    s = np.std(data, ddof=1)\n",
        "    stderr = s/np.sqrt(n)\n",
        "    margin_of_error = stderr * stats.t.ppf((1 + confidence) / 2.0, n - 1)\n",
        "    return (mean, mean - margin_of_error, mean + margin_of_error)\n",
        "\n",
        "confidence_interval(df['temp'])"
      ],
      "execution_count": 0,
      "outputs": [
        {
          "output_type": "execute_result",
          "data": {
            "text/plain": [
              "(18.88916827852998, 18.38746551815681, 19.39087103890315)"
            ]
          },
          "metadata": {
            "tags": []
          },
          "execution_count": 124
        }
      ]
    },
    {
      "cell_type": "code",
      "metadata": {
        "id": "wbWBxFu1i-7v",
        "colab_type": "code",
        "colab": {}
      },
      "source": [
        "norm = stats.norm.interval(0.05, loc=np.mean(df['temp']), scale=np.std(df['temp']))"
      ],
      "execution_count": 0,
      "outputs": []
    },
    {
      "cell_type": "code",
      "metadata": {
        "id": "yci0Aq6omYty",
        "colab_type": "code",
        "colab": {}
      },
      "source": [
        "CI = [mean[0], mean[1][0], mean[1][1]]\n",
        "CI_norm = [np.mean(df['temp']), norm[0], norm[1]]"
      ],
      "execution_count": 0,
      "outputs": []
    },
    {
      "cell_type": "code",
      "metadata": {
        "id": "orOlC3D9ktfZ",
        "colab_type": "code",
        "outputId": "2e0b5c87-2ad0-4c39-c676-150279450298",
        "colab": {
          "base_uri": "https://localhost:8080/",
          "height": 275
        }
      },
      "source": [
        "import seaborn as sns\n",
        "import matplotlib.pyplot as plt\n",
        "\n",
        "# Frequentist\n",
        "sns.boxplot(confidence_interval(df['temp']), color='blue')\n",
        "# Bayesian\n",
        "sns.boxplot(CI, color='red')\n",
        "# stats.norm\n",
        "sns.boxplot(CI_norm, color='green')\n",
        "sns.despine(offset=10, trim=True)"
      ],
      "execution_count": 0,
      "outputs": [
        {
          "output_type": "display_data",
          "data": {
            "image/png": "[encoded data removed]",
            "text/plain": [
              "<Figure size 432x288 with 1 Axes>"
            ]
          },
          "metadata": {
            "tags": []
          }
        }
      ]
    },
    {
      "cell_type": "markdown",
      "metadata": {
        "id": "O8f2mRWbq1MP",
        "colab_type": "text"
      },
      "source": [
        "The key difference between Bayesian and Frequentist statistics is in how probability is used. A Bayesian statistician would begin by accounting for prior knowledge before collecting data; a Frequentist statistican would only account for probability by sampled data."
      ]
    },
    {
      "cell_type": "markdown",
      "metadata": {
        "id": "uWgWjp3PQ3Sq",
        "colab_type": "text"
      },
      "source": [
        "## Resources"
      ]
    },
    {
      "cell_type": "markdown",
      "metadata": {
        "id": "QRgHqmYIQ9qn",
        "colab_type": "text"
      },
      "source": [
        "- [Worked example of Bayes rule calculation](https://en.wikipedia.org/wiki/Bayes'_theorem#Examples) (helpful as it fully breaks out the denominator)\n",
        "- [Source code for mvsdist in scipy](https://github.com/scipy/scipy/blob/90534919e139d2a81c24bf08341734ff41a3db12/scipy/stats/morestats.py#L139)"
      ]
    },
    {
      "cell_type": "markdown",
      "metadata": {
        "id": "GP7Jv1XvwtkX",
        "colab_type": "text"
      },
      "source": [
        "## Stretch Goals:\n",
        "\n",
        "- Go back and study the content from Modules 1 & 2 to make sure that you're really comfortable with them.\n",
        "- Apply a Bayesian technique to a problem you previously worked (in an assignment or project work) on from a frequentist (standard) perspective\n",
        "- Check out [PyMC3](https://docs.pymc.io/) (note this goes beyond hypothesis tests into modeling) - read the guides and work through some examples\n",
        "- Take PyMC3 further - see if you can build something with it!"
      ]
    },
    {
      "cell_type": "code",
      "metadata": {
        "id": "iDi0eFr1x-v_",
        "colab_type": "code",
        "colab": {}
      },
      "source": [
        ""
      ],
      "execution_count": 0,
      "outputs": []
    }
  ]
}